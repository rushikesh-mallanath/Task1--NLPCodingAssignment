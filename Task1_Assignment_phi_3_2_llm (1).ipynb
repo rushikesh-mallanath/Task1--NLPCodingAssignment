{
  "nbformat": 4,
  "nbformat_minor": 0,
  "metadata": {
    "colab": {
      "private_outputs": true,
      "provenance": [],
      "gpuType": "T4"
    },
    "kernelspec": {
      "name": "python3",
      "display_name": "Python 3"
    },
    "language_info": {
      "name": "python"
    },
    "accelerator": "GPU"
  },
  "cells": [
    {
      "cell_type": "code",
      "execution_count": null,
      "metadata": {
        "id": "kese8H1WhcY2"
      },
      "outputs": [],
      "source": []
    },
    {
      "cell_type": "code",
      "source": [
        "import torch\n",
        "from transformers import AutoModelForCausalLM, AutoTokenizer, pipeline\n",
        "\n",
        "torch.random.manual_seed(0)"
      ],
      "metadata": {
        "id": "0dj5_dR7hd0O"
      },
      "execution_count": null,
      "outputs": []
    },
    {
      "cell_type": "code",
      "source": [],
      "metadata": {
        "id": "ftiN1QYWhjtv"
      },
      "execution_count": null,
      "outputs": []
    },
    {
      "cell_type": "code",
      "source": [
        "\n",
        "model = AutoModelForCausalLM.from_pretrained(\n",
        "    \"microsoft/Phi-3-mini-4k-instruct\",\n",
        "    device_map=\"cuda\",\n",
        "    torch_dtype=\"auto\",\n",
        "    trust_remote_code=True,\n",
        ")\n",
        "\n",
        "tokenizer = AutoTokenizer.from_pretrained(\"microsoft/Phi-3-mini-4k-instruct\")"
      ],
      "metadata": {
        "id": "658lOYfphlQN"
      },
      "execution_count": null,
      "outputs": []
    },
    {
      "cell_type": "code",
      "source": [],
      "metadata": {
        "id": "xtGLper_hsHt"
      },
      "execution_count": null,
      "outputs": []
    },
    {
      "cell_type": "code",
      "source": [
        "from unidecode import unidecode\n",
        "import re\n",
        "import warnings\n",
        "warnings.filterwarnings('ignore')\n",
        "\n",
        "\n",
        "def llm_bot(patient_summery):\n",
        "  #below part will load the model and asper assigned rules we assign model that response in this format\n",
        "\n",
        "  messages = [\n",
        "      {\"role\": \"system\", \"content\": \"You are a highly skilled AI assistant specialized in medical data extraction.\"},\n",
        "      {\"role\": \"user\", \"content\": '''i. I will provide you with a patient summary. Please extract the following information and return it in a clean format: name, gender, age, weight, height, BMI, and chief medical complaint.\n",
        "                                    ii. For the BMI, you need to calculate the BMI using formula and provide only calculated BMI number in response without any other information.\n",
        "                                    iii. Do not add any extra information except asked like used formulas.'''},\n",
        "\n",
        "      {\"role\": \"assistant\", \"content\": '''\n",
        "        name - extracted_name,\n",
        "        gender- extracted_gender,\n",
        "        age - extracted_age,\n",
        "        weight - extracted_weight,\n",
        "        height - extracted_height,\n",
        "        BMI - caculated_BMI,\n",
        "        chief_medical_complaint - extracted_chief_medical_complaint\n",
        "        '''},\n",
        "\n",
        "      {\"role\": \"user\", \"content\": f\"Patient Summary: {patient_summery}\"}\n",
        "      ]\n",
        "\n",
        "  pipe = pipeline(\n",
        "      \"text-generation\",\n",
        "      model=model,\n",
        "      tokenizer=tokenizer,\n",
        "  )\n",
        "\n",
        "  # Define generation parameters for the model's output\n",
        "  generation_args = {\n",
        "      \"max_new_tokens\": 500,\n",
        "      \"return_full_text\": False,\n",
        "      \"temperature\": 0.0,\n",
        "      \"do_sample\": False,\n",
        "  }\n",
        "\n",
        "  output = pipe(messages, **generation_args)\n",
        "  result = output[0]['generated_text']\n",
        "\n",
        "  #As we get the response from model we are postprocessing it which includes clearning, and converting into dictionary\n",
        "  if result:\n",
        "\n",
        "    result = unidecode(result)\n",
        "\n",
        "    result = re.sub(r'\\n', '', result)\n",
        "    result = re.sub(r'  ', '', result)\n",
        "\n",
        "    required_info = {}\n",
        "\n",
        "    #Below we are using regex pattern to fetch required details\n",
        "    #-- pattern for name\n",
        "    pattern = r'name - ([A-Za-z\\s\\.]+),'\n",
        "    match = re.search(pattern, result)\n",
        "    if match:\n",
        "      required_info['name'] = match.group(1)\n",
        "\n",
        "\n",
        "    #-- pattern for gender\n",
        "    pattern = r'gender - ([A-Za-z\\s\\.]+),'\n",
        "    match = re.search(pattern, result)\n",
        "    if match:\n",
        "      required_info['gender'] = match.group(1)\n",
        "\n",
        "\n",
        "    #-- pattern for age\n",
        "    pattern = r'age - ([\\d{1,3}]+),'\n",
        "    match = re.search(pattern, result)\n",
        "    if match:\n",
        "      required_info['age'] = match.group(1)\n",
        "\n",
        "\n",
        "    #-- pattern for weight\n",
        "    pattern = r'weight - (\\d+ lbs),'\n",
        "    match = re.search(pattern, result)\n",
        "    if match:\n",
        "      required_info['weight'] = match.group(1)\n",
        "\n",
        "    #-- pattern for height\n",
        "    pattern = r'height - (\\d+ inches)'\n",
        "    match = re.search(pattern, result)\n",
        "    if match:\n",
        "      required_info['height'] = match.group(1)\n",
        "\n",
        "    #-- pattern for BMI\n",
        "    pattern = r'BMI - ([\\d{1,3.}]+)'\n",
        "    match = re.search(pattern, result)\n",
        "    if match:\n",
        "      required_info['BMI'] = match.group(1)\n",
        "\n",
        "\n",
        "    #-- pattern for chief medical complaint\n",
        "    pattern = r'chief_medical_complaint - (.*).'\n",
        "    match = re.search(pattern, result)\n",
        "    if match:\n",
        "      required_info['chief_medical_complaint'] = match.group(1)\n",
        "\n",
        "  return required_info"
      ],
      "metadata": {
        "id": "bXqJ89U3j7lA"
      },
      "execution_count": null,
      "outputs": []
    },
    {
      "cell_type": "code",
      "source": [],
      "metadata": {
        "id": "xjYAcV7okVo2"
      },
      "execution_count": null,
      "outputs": []
    },
    {
      "cell_type": "code",
      "source": [
        "#Provide single string and get output\n",
        "\n",
        "patient_summery = '''John R. Whitaker, a 52-year-old male, stands 5'10\" (70 inches) tall and weighs 198 lbs. Mr. Whitaker has a history of hypertension and type 2 diabetes, both diagnosed in his mid-40s, and recently began experiencing worsening peripheral neuropathy in his lower extremities. He also reports chronic lower back pain, which he attributes to years of heavy lifting in his previous occupation as a construction worker. Over the past six months, John has developed shortness of breath during mild exertion, prompting concerns about potential early-stage congestive heart failure. Additionally, he struggles with obesity-related sleep apnea, contributing to fatigue and cognitive fog throughout the day. Despite his conditions, Mr. Whitaker maintains a generally positive outlook but admits to inconsistent medication adherence and difficulty following a healthy diet'''\n",
        "required_info = llm_bot(patient_summery)\n",
        "print(\"required_info =\", required_info)"
      ],
      "metadata": {
        "id": "BrdyPGNv9IEb"
      },
      "execution_count": null,
      "outputs": []
    },
    {
      "cell_type": "code",
      "source": [
        "print(type(required_info))"
      ],
      "metadata": {
        "id": "ixFPJ99a9H92"
      },
      "execution_count": null,
      "outputs": []
    },
    {
      "cell_type": "code",
      "source": [],
      "metadata": {
        "id": "3ahtk2iZ9H3e"
      },
      "execution_count": null,
      "outputs": []
    },
    {
      "cell_type": "code",
      "source": [
        "#Provide multiple patient summery as free text, and get output for each text.\n",
        "\n",
        "patient_summeries = [\n",
        "    '''John R. Whitaker, a 52-year-old male, stands 5'10\" (70 inches) tall and weighs 198 lbs. Mr. Whitaker has a history of hypertension and type 2 diabetes, both diagnosed in his mid-40s, and recently began experiencing worsening peripheral neuropathy in his lower extremities. He also reports chronic lower back pain, which he attributes to years of heavy lifting in his previous occupation as a construction worker. Over the past six months, John has developed shortness of breath during mild exertion, prompting concerns about potential early-stage congestive heart failure. Additionally, he struggles with obesity-related sleep apnea, contributing to fatigue and cognitive fog throughout the day. Despite his conditions, Mr. Whitaker maintains a generally positive outlook but admits to inconsistent medication adherence and difficulty following a healthy diet''',\n",
        "    '''For the past six months, Emily J. Rivera has been dealing with persistent chest tightness and shortness of breath, especially during moderate activity. She works as a schoolteacher and describes her symptoms as worsening under stress, which she initially dismissed as anxiety. A thorough evaluation revealed mild asthma, along with borderline high cholesterol levels. Emily is 41 years old, 5'5\" (65 inches) tall, and weighs 172 lbs. She also complains of intermittent joint stiffness in her hands, particularly in the mornings, which her physician suspects could be early osteoarthritis. Emily’s sedentary lifestyle and inconsistent exercise routine have contributed to her struggles with maintaining a healthy weight, though she remains committed to improving her overall health with proper guidance and treatment.''',\n",
        "    '''Karen L. Thompson, a 38-year-old female, is 5'4\" (64 inches) tall and weighs 162 lbs. She has a history of irritable bowel syndrome (IBS) and recurrent migraines, both of which have intensified over the past year. Karen also experiences chronic fatigue and joint pain, leading her physician to investigate possible early-stage rheumatoid arthritis. She reports frequent episodes of dizziness and occasional heart palpitations, which have been attributed to mild anemia and elevated stress levels. Karen’s symptoms are exacerbated by her demanding job as a paralegal, where long hours and poor posture have contributed to persistent neck and shoulder tension. Recently, she has begun experiencing intermittent insomnia, further impacting her energy levels and overall well-being.'''\n",
        "]\n",
        "\n",
        "for patient_summery in patient_summeries:\n",
        "  print('--------------------')\n",
        "  required_info = llm_bot(patient_summery)\n",
        "  print(\"required_info =\", required_info)"
      ],
      "metadata": {
        "id": "PIWE8y_2oJ_b"
      },
      "execution_count": null,
      "outputs": []
    },
    {
      "cell_type": "code",
      "source": [],
      "metadata": {
        "id": "yPNkP0EY0Jhu"
      },
      "execution_count": null,
      "outputs": []
    },
    {
      "cell_type": "code",
      "source": [
        "!PYTORCH_CUDA_ALLOC_CONF=expandable_segments:True"
      ],
      "metadata": {
        "id": "1rYnem8f0Jes"
      },
      "execution_count": null,
      "outputs": []
    },
    {
      "cell_type": "code",
      "source": [],
      "metadata": {
        "id": "a_deatQR0Jbz"
      },
      "execution_count": null,
      "outputs": []
    },
    {
      "cell_type": "code",
      "source": [],
      "metadata": {
        "id": "YCbC73O60JYt"
      },
      "execution_count": null,
      "outputs": []
    },
    {
      "cell_type": "code",
      "source": [],
      "metadata": {
        "id": "fy537owG0JVP"
      },
      "execution_count": null,
      "outputs": []
    }
  ]
}